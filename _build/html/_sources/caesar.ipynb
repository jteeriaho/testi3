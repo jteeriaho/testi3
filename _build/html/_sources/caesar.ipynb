{
 "cells": [
  {
   "cell_type": "markdown",
   "id": "8858ad3f",
   "metadata": {},
   "source": [
    "# Caesar salaus "
   ]
  },
  {
   "cell_type": "code",
   "execution_count": 1,
   "id": "fd910cfe",
   "metadata": {
    "tags": [
     "thebe-init"
    ]
   },
   "outputs": [
    {
     "data": {
      "application/vnd.jupyter.widget-view+json": {
       "model_id": "f986e6a87c9840cdb6abd63e1e9bf21a",
       "version_major": 2,
       "version_minor": 0
      },
      "text/plain": [
       "interactive(children=(Text(value='rovaniemi ', description='viesti'), IntSlider(value=5, description='avain', …"
      ]
     },
     "metadata": {},
     "output_type": "display_data"
    },
    {
     "data": {
      "text/plain": [
       "<function __main__.f(viesti: str, avain: int)>"
      ]
     },
     "execution_count": 1,
     "metadata": {},
     "output_type": "execute_result"
    }
   ],
   "source": [
    "import ipywidgets as widgets\n",
    "from ipywidgets import interact\n",
    "\n",
    "def f(viesti: str, avain: int):\n",
    "    luvut=list(viesti.encode('ascii'))\n",
    "    luvut=[((luku -97+avain)%26)+97 for luku in luvut ]\n",
    "    salaus=[chr(luku) for luku in luvut]\n",
    "    print(\"Viestin salakirjoitus on: \"+''.join(salaus))  \n",
    "\n",
    "interact(f,viesti=\"rovaniemi \", avain=widgets.IntSlider(value=5, min=0, max=25))"
   ]
  },
  {
   "cell_type": "code",
   "execution_count": null,
   "id": "5c060f62",
   "metadata": {},
   "outputs": [],
   "source": []
  }
 ],
 "metadata": {
  "celltoolbar": "Tags",
  "kernelspec": {
   "display_name": "Python 3 (ipykernel)",
   "language": "python",
   "name": "python3"
  },
  "language_info": {
   "codemirror_mode": {
    "name": "ipython",
    "version": 3
   },
   "file_extension": ".py",
   "mimetype": "text/x-python",
   "name": "python",
   "nbconvert_exporter": "python",
   "pygments_lexer": "ipython3",
   "version": "3.9.7"
  }
 },
 "nbformat": 4,
 "nbformat_minor": 5
}
