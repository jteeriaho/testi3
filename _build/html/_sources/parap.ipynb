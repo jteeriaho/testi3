{
 "cells": [
  {
   "cell_type": "markdown",
   "metadata": {},
   "source": [
    "# Paraabeli interaktiivinen\n",
    "Piirtää paraabelin, tulostaa reaalijuuret ja huipun koordinaatit"
   ]
  },
  {
   "cell_type": "code",
   "execution_count": 2,
   "metadata": {
    "tags": [
     "thebe-init"
    ]
   },
   "outputs": [
    {
     "name": "stdout",
     "output_type": "stream",
     "text": [
      "Anna paraabelin kertoimet:\n"
     ]
    },
    {
     "data": {
      "application/vnd.jupyter.widget-view+json": {
       "model_id": "33405d5856cb4025870e9b6293afc06c",
       "version_major": 2,
       "version_minor": 0
      },
      "text/plain": [
       "interactive(children=(Text(value='2', description='a'), Text(value='3', description='b'), Text(value='-5', des…"
      ]
     },
     "metadata": {},
     "output_type": "display_data"
    },
    {
     "data": {
      "text/plain": [
       "<function __main__.paraabeli(a: str, b: str, c: str)>"
      ]
     },
     "execution_count": 2,
     "metadata": {},
     "output_type": "execute_result"
    }
   ],
   "source": [
    "import numpy as np\n",
    "import matplotlib.pyplot as plt\n",
    "import ipywidgets as widgets\n",
    "from math import sqrt\n",
    "\n",
    "def tulosta(a,b,c):\n",
    "    if b>0:\n",
    "        v1='+'\n",
    "    else:\n",
    "        v1='-'\n",
    "    if c>0:\n",
    "        v2='+'\n",
    "    else:\n",
    "        v2='-'\n",
    "    print('Paraabelin yhtälö: y = ',a,'x^2',v1,b,'x',v2,c)\n",
    "    print('Paraabelin huippu: x =',-b/(2*a),' y =',c-b**2/(4*a))\n",
    "    dk=b**2-4*a*c\n",
    "    if dk<0:\n",
    "        print('Ei reaalijuuria')\n",
    "    elif dk==0:\n",
    "        print('Kaksoisjuuri ',-b/(2*a))\n",
    "    else:\n",
    "        print('Kaksi reaalijuurta: ',round((-b-sqrt(dk))/(2*a),3),' ja ',round((-b+sqrt(dk))/(2*a),3))\n",
    "    print('\\n             Kuvaaja:')\n",
    "\n",
    "def paraabeli(a:str, b:str,c:str):\n",
    "    a1=int(a)\n",
    "    b1=int(b)\n",
    "    c1=int(c)\n",
    "    x = np.linspace(-5, 5, 100)\n",
    "    y = a1*x**2+b1*x + c1\n",
    "    fig, ax = plt.subplots()\n",
    "    ax.plot(x, y, 'r')\n",
    "    ax.grid()\n",
    "    ax.set_xlim([-5, 5])\n",
    "    ax.set_ylim([-10, 10])\n",
    "    ax.set_xlabel(r'$x$', loc='right')\n",
    "    ax.set_ylabel(r'$y$', loc='top')\n",
    "    tulosta(a1,b1,c1)\n",
    "    \n",
    "#paraabeli(2,3,-5)\n",
    "print('Anna paraabelin kertoimet:')\n",
    "widgets.interact(paraabeli,a='2',b='3',c='-5')"
   ]
  }
 ],
 "metadata": {
  "celltoolbar": "Tags",
  "kernelspec": {
   "display_name": "Python 3",
   "language": "python",
   "name": "python3"
  },
  "language_info": {
   "codemirror_mode": {
    "name": "ipython",
    "version": 3
   },
   "file_extension": ".py",
   "mimetype": "text/x-python",
   "name": "python",
   "nbconvert_exporter": "python",
   "pygments_lexer": "ipython3",
   "version": "3.8.5"
  }
 },
 "nbformat": 4,
 "nbformat_minor": 5
}
