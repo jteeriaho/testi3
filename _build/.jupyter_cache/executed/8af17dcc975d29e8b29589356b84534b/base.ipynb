{
 "cells": [
  {
   "cell_type": "code",
   "execution_count": 1,
   "id": "1b102e3f",
   "metadata": {
    "tags": [
     "thebe-init",
     "hide_input"
    ]
   },
   "outputs": [
    {
     "name": "stdout",
     "output_type": "stream",
     "text": [
      "Anna paraabelin kertoimet:\n"
     ]
    },
    {
     "data": {
      "application/vnd.jupyter.widget-view+json": {
       "model_id": "509c252f41274bf08a84a09f2579c95f",
       "version_major": 2,
       "version_minor": 0
      },
      "text/plain": [
       "interactive(children=(Text(value='2', description='a'), Text(value='3', description='b'), Text(value='-5', des…"
      ]
     },
     "metadata": {},
     "output_type": "display_data"
    },
    {
     "data": {
      "text/plain": [
       "<function __main__.paraabeli(a: str, b: str, c: str)>"
      ]
     },
     "execution_count": 1,
     "metadata": {},
     "output_type": "execute_result"
    }
   ],
   "source": [
    "import numpy as np\n",
    "import matplotlib.pyplot as plt\n",
    "import ipywidgets as widgets\n",
    "from math import sqrt\n",
    "\n",
    "def tulosta(a,b,c):\n",
    "    if b>0:\n",
    "        v1='+'\n",
    "    else:\n",
    "        v1=''\n",
    "    if c>0:\n",
    "        v2='+'\n",
    "    else:\n",
    "        v2=''\n",
    "    print('Paraabelin yhtälö: y = ',a,'x^2',v1,b,'x',v2,c)\n",
    "    dk=b**2-4*a*c\n",
    "    if dk<0:\n",
    "        print('Juuret: ei reaalijuuria')\n",
    "    elif dk==0:\n",
    "        print('Juuret: kaksoisjuuri ',-b/(2*a))\n",
    "    else:\n",
    "        print('Juuret: kaksi reaalijuurta: ',round((-b-sqrt(dk))/(2*a),3),' ja ',round((-b+sqrt(dk))/(2*a),3))\n",
    "    print('Paraabelin huippu: x =',-b/(2*a),' y =',c-b**2/(4*a))\n",
    "    print('\\n             Kuvaaja:')\n",
    "\n",
    "def paraabeli(a:str, b:str,c:str):\n",
    "    a1=float(a)\n",
    "    b1=float(b)\n",
    "    c1=float(c)\n",
    "    x = np.linspace(-5, 5, 100)\n",
    "    y = a1*x**2+b1*x + c1\n",
    "    fig, ax = plt.subplots()\n",
    "    ax.plot(x, y, 'r')\n",
    "    ax.grid()\n",
    "    ax.set_xlim([-5, 5])\n",
    "    ax.set_ylim([-10, 10])\n",
    "    ax.set_xlabel(r'$x$', loc='right')\n",
    "    ax.set_ylabel(r'$y$', loc='top')\n",
    "    tulosta(a1,b1,c1)\n",
    "    \n",
    "\n",
    "#paraabeli(2,3,-5)\n",
    "print('Anna paraabelin kertoimet:')\n",
    "widgets.interact(paraabeli,a='2',b='3',c='-5')"
   ]
  }
 ],
 "metadata": {
  "celltoolbar": "Tags",
  "kernelspec": {
   "display_name": "Python 3 (ipykernel)",
   "language": "python",
   "name": "python3"
  },
  "language_info": {
   "codemirror_mode": {
    "name": "ipython",
    "version": 3
   },
   "file_extension": ".py",
   "mimetype": "text/x-python",
   "name": "python",
   "nbconvert_exporter": "python",
   "pygments_lexer": "ipython3",
   "version": "3.9.7"
  },
  "widgets": {
   "application/vnd.jupyter.widget-state+json": {
    "state": {
     "03c892a22cdf4931942f72e18c361714": {
      "model_module": "@jupyter-widgets/base",
      "model_module_version": "1.2.0",
      "model_name": "LayoutModel",
      "state": {
       "_model_module": "@jupyter-widgets/base",
       "_model_module_version": "1.2.0",
       "_model_name": "LayoutModel",
       "_view_count": null,
       "_view_module": "@jupyter-widgets/base",
       "_view_module_version": "1.2.0",
       "_view_name": "LayoutView",
       "align_content": null,
       "align_items": null,
       "align_self": null,
       "border": null,
       "bottom": null,
       "display": null,
       "flex": null,
       "flex_flow": null,
       "grid_area": null,
       "grid_auto_columns": null,
       "grid_auto_flow": null,
       "grid_auto_rows": null,
       "grid_column": null,
       "grid_gap": null,
       "grid_row": null,
       "grid_template_areas": null,
       "grid_template_columns": null,
       "grid_template_rows": null,
       "height": null,
       "justify_content": null,
       "justify_items": null,
       "left": null,
       "margin": null,
       "max_height": null,
       "max_width": null,
       "min_height": null,
       "min_width": null,
       "object_fit": null,
       "object_position": null,
       "order": null,
       "overflow": null,
       "overflow_x": null,
       "overflow_y": null,
       "padding": null,
       "right": null,
       "top": null,
       "visibility": null,
       "width": null
      }
     },
     "1c4dc1454d564c929e0e7fa8cdf3525b": {
      "model_module": "@jupyter-widgets/base",
      "model_module_version": "1.2.0",
      "model_name": "LayoutModel",
      "state": {
       "_model_module": "@jupyter-widgets/base",
       "_model_module_version": "1.2.0",
       "_model_name": "LayoutModel",
       "_view_count": null,
       "_view_module": "@jupyter-widgets/base",
       "_view_module_version": "1.2.0",
       "_view_name": "LayoutView",
       "align_content": null,
       "align_items": null,
       "align_self": null,
       "border": null,
       "bottom": null,
       "display": null,
       "flex": null,
       "flex_flow": null,
       "grid_area": null,
       "grid_auto_columns": null,
       "grid_auto_flow": null,
       "grid_auto_rows": null,
       "grid_column": null,
       "grid_gap": null,
       "grid_row": null,
       "grid_template_areas": null,
       "grid_template_columns": null,
       "grid_template_rows": null,
       "height": null,
       "justify_content": null,
       "justify_items": null,
       "left": null,
       "margin": null,
       "max_height": null,
       "max_width": null,
       "min_height": null,
       "min_width": null,
       "object_fit": null,
       "object_position": null,
       "order": null,
       "overflow": null,
       "overflow_x": null,
       "overflow_y": null,
       "padding": null,
       "right": null,
       "top": null,
       "visibility": null,
       "width": null
      }
     },
     "37fdf98238004280a018e653d43b7dbb": {
      "model_module": "@jupyter-widgets/base",
      "model_module_version": "1.2.0",
      "model_name": "LayoutModel",
      "state": {
       "_model_module": "@jupyter-widgets/base",
       "_model_module_version": "1.2.0",
       "_model_name": "LayoutModel",
       "_view_count": null,
       "_view_module": "@jupyter-widgets/base",
       "_view_module_version": "1.2.0",
       "_view_name": "LayoutView",
       "align_content": null,
       "align_items": null,
       "align_self": null,
       "border": null,
       "bottom": null,
       "display": null,
       "flex": null,
       "flex_flow": null,
       "grid_area": null,
       "grid_auto_columns": null,
       "grid_auto_flow": null,
       "grid_auto_rows": null,
       "grid_column": null,
       "grid_gap": null,
       "grid_row": null,
       "grid_template_areas": null,
       "grid_template_columns": null,
       "grid_template_rows": null,
       "height": null,
       "justify_content": null,
       "justify_items": null,
       "left": null,
       "margin": null,
       "max_height": null,
       "max_width": null,
       "min_height": null,
       "min_width": null,
       "object_fit": null,
       "object_position": null,
       "order": null,
       "overflow": null,
       "overflow_x": null,
       "overflow_y": null,
       "padding": null,
       "right": null,
       "top": null,
       "visibility": null,
       "width": null
      }
     },
     "509c252f41274bf08a84a09f2579c95f": {
      "model_module": "@jupyter-widgets/controls",
      "model_module_version": "1.5.0",
      "model_name": "VBoxModel",
      "state": {
       "_dom_classes": [
        "widget-interact"
       ],
       "_model_module": "@jupyter-widgets/controls",
       "_model_module_version": "1.5.0",
       "_model_name": "VBoxModel",
       "_view_count": null,
       "_view_module": "@jupyter-widgets/controls",
       "_view_module_version": "1.5.0",
       "_view_name": "VBoxView",
       "box_style": "",
       "children": [
        "IPY_MODEL_8ba55846f44c4d11a88d92a9a2cab978",
        "IPY_MODEL_5ce8fe5d637a48dd8e3c76500d3831d7",
        "IPY_MODEL_7b6c03f9511d45ecaaad9e6083014bc3",
        "IPY_MODEL_e6ed5e70a73448b0968bfc6d7b025c31"
       ],
       "layout": "IPY_MODEL_37fdf98238004280a018e653d43b7dbb"
      }
     },
     "52969fdce7e84563aadaccf800ae3955": {
      "model_module": "@jupyter-widgets/controls",
      "model_module_version": "1.5.0",
      "model_name": "DescriptionStyleModel",
      "state": {
       "_model_module": "@jupyter-widgets/controls",
       "_model_module_version": "1.5.0",
       "_model_name": "DescriptionStyleModel",
       "_view_count": null,
       "_view_module": "@jupyter-widgets/base",
       "_view_module_version": "1.2.0",
       "_view_name": "StyleView",
       "description_width": ""
      }
     },
     "5ce8fe5d637a48dd8e3c76500d3831d7": {
      "model_module": "@jupyter-widgets/controls",
      "model_module_version": "1.5.0",
      "model_name": "TextModel",
      "state": {
       "_dom_classes": [],
       "_model_module": "@jupyter-widgets/controls",
       "_model_module_version": "1.5.0",
       "_model_name": "TextModel",
       "_view_count": null,
       "_view_module": "@jupyter-widgets/controls",
       "_view_module_version": "1.5.0",
       "_view_name": "TextView",
       "continuous_update": true,
       "description": "b",
       "description_tooltip": null,
       "disabled": false,
       "layout": "IPY_MODEL_f3cd72bd3d694ad1ba5f33ffa8899eb7",
       "placeholder": "​",
       "style": "IPY_MODEL_e2b1bb3dff2148d7bbed2637d61438cb",
       "value": "3"
      }
     },
     "7b6c03f9511d45ecaaad9e6083014bc3": {
      "model_module": "@jupyter-widgets/controls",
      "model_module_version": "1.5.0",
      "model_name": "TextModel",
      "state": {
       "_dom_classes": [],
       "_model_module": "@jupyter-widgets/controls",
       "_model_module_version": "1.5.0",
       "_model_name": "TextModel",
       "_view_count": null,
       "_view_module": "@jupyter-widgets/controls",
       "_view_module_version": "1.5.0",
       "_view_name": "TextView",
       "continuous_update": true,
       "description": "c",
       "description_tooltip": null,
       "disabled": false,
       "layout": "IPY_MODEL_03c892a22cdf4931942f72e18c361714",
       "placeholder": "​",
       "style": "IPY_MODEL_52969fdce7e84563aadaccf800ae3955",
       "value": "-5"
      }
     },
     "8ba55846f44c4d11a88d92a9a2cab978": {
      "model_module": "@jupyter-widgets/controls",
      "model_module_version": "1.5.0",
      "model_name": "TextModel",
      "state": {
       "_dom_classes": [],
       "_model_module": "@jupyter-widgets/controls",
       "_model_module_version": "1.5.0",
       "_model_name": "TextModel",
       "_view_count": null,
       "_view_module": "@jupyter-widgets/controls",
       "_view_module_version": "1.5.0",
       "_view_name": "TextView",
       "continuous_update": true,
       "description": "a",
       "description_tooltip": null,
       "disabled": false,
       "layout": "IPY_MODEL_1c4dc1454d564c929e0e7fa8cdf3525b",
       "placeholder": "​",
       "style": "IPY_MODEL_a1bd4c0e4a5449fba72fe5171599a0fd",
       "value": "2"
      }
     },
     "917cac4582d745fc883976d3b11644e5": {
      "model_module": "@jupyter-widgets/base",
      "model_module_version": "1.2.0",
      "model_name": "LayoutModel",
      "state": {
       "_model_module": "@jupyter-widgets/base",
       "_model_module_version": "1.2.0",
       "_model_name": "LayoutModel",
       "_view_count": null,
       "_view_module": "@jupyter-widgets/base",
       "_view_module_version": "1.2.0",
       "_view_name": "LayoutView",
       "align_content": null,
       "align_items": null,
       "align_self": null,
       "border": null,
       "bottom": null,
       "display": null,
       "flex": null,
       "flex_flow": null,
       "grid_area": null,
       "grid_auto_columns": null,
       "grid_auto_flow": null,
       "grid_auto_rows": null,
       "grid_column": null,
       "grid_gap": null,
       "grid_row": null,
       "grid_template_areas": null,
       "grid_template_columns": null,
       "grid_template_rows": null,
       "height": null,
       "justify_content": null,
       "justify_items": null,
       "left": null,
       "margin": null,
       "max_height": null,
       "max_width": null,
       "min_height": null,
       "min_width": null,
       "object_fit": null,
       "object_position": null,
       "order": null,
       "overflow": null,
       "overflow_x": null,
       "overflow_y": null,
       "padding": null,
       "right": null,
       "top": null,
       "visibility": null,
       "width": null
      }
     },
     "a1bd4c0e4a5449fba72fe5171599a0fd": {
      "model_module": "@jupyter-widgets/controls",
      "model_module_version": "1.5.0",
      "model_name": "DescriptionStyleModel",
      "state": {
       "_model_module": "@jupyter-widgets/controls",
       "_model_module_version": "1.5.0",
       "_model_name": "DescriptionStyleModel",
       "_view_count": null,
       "_view_module": "@jupyter-widgets/base",
       "_view_module_version": "1.2.0",
       "_view_name": "StyleView",
       "description_width": ""
      }
     },
     "e2b1bb3dff2148d7bbed2637d61438cb": {
      "model_module": "@jupyter-widgets/controls",
      "model_module_version": "1.5.0",
      "model_name": "DescriptionStyleModel",
      "state": {
       "_model_module": "@jupyter-widgets/controls",
       "_model_module_version": "1.5.0",
       "_model_name": "DescriptionStyleModel",
       "_view_count": null,
       "_view_module": "@jupyter-widgets/base",
       "_view_module_version": "1.2.0",
       "_view_name": "StyleView",
       "description_width": ""
      }
     },
     "e6ed5e70a73448b0968bfc6d7b025c31": {
      "model_module": "@jupyter-widgets/output",
      "model_module_version": "1.0.0",
      "model_name": "OutputModel",
      "state": {
       "_dom_classes": [],
       "_model_module": "@jupyter-widgets/output",
       "_model_module_version": "1.0.0",
       "_model_name": "OutputModel",
       "_view_count": null,
       "_view_module": "@jupyter-widgets/output",
       "_view_module_version": "1.0.0",
       "_view_name": "OutputView",
       "layout": "IPY_MODEL_917cac4582d745fc883976d3b11644e5",
       "msg_id": "",
       "outputs": [
        {
         "name": "stdout",
         "output_type": "stream",
         "text": "Paraabelin yhtälö: y =  2.0 x^2 + 3.0 x  -5.0\nJuuret: kaksi reaalijuurta:  -2.5  ja  1.0\nParaabelin huippu: x = -0.75  y = -6.125\n\n             Kuvaaja:\n"
        },
        {
         "data": {
          "image/png": "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\n",
          "text/plain": "<Figure size 432x288 with 1 Axes>"
         },
         "metadata": {
          "needs_background": "light"
         },
         "output_type": "display_data"
        }
       ]
      }
     },
     "f3cd72bd3d694ad1ba5f33ffa8899eb7": {
      "model_module": "@jupyter-widgets/base",
      "model_module_version": "1.2.0",
      "model_name": "LayoutModel",
      "state": {
       "_model_module": "@jupyter-widgets/base",
       "_model_module_version": "1.2.0",
       "_model_name": "LayoutModel",
       "_view_count": null,
       "_view_module": "@jupyter-widgets/base",
       "_view_module_version": "1.2.0",
       "_view_name": "LayoutView",
       "align_content": null,
       "align_items": null,
       "align_self": null,
       "border": null,
       "bottom": null,
       "display": null,
       "flex": null,
       "flex_flow": null,
       "grid_area": null,
       "grid_auto_columns": null,
       "grid_auto_flow": null,
       "grid_auto_rows": null,
       "grid_column": null,
       "grid_gap": null,
       "grid_row": null,
       "grid_template_areas": null,
       "grid_template_columns": null,
       "grid_template_rows": null,
       "height": null,
       "justify_content": null,
       "justify_items": null,
       "left": null,
       "margin": null,
       "max_height": null,
       "max_width": null,
       "min_height": null,
       "min_width": null,
       "object_fit": null,
       "object_position": null,
       "order": null,
       "overflow": null,
       "overflow_x": null,
       "overflow_y": null,
       "padding": null,
       "right": null,
       "top": null,
       "visibility": null,
       "width": null
      }
     }
    },
    "version_major": 2,
    "version_minor": 0
   }
  }
 },
 "nbformat": 4,
 "nbformat_minor": 5
}